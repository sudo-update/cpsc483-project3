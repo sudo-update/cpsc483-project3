{
 "cells": [
  {
   "cell_type": "markdown",
   "id": "2724f442",
   "metadata": {},
   "source": [
    "Project 3<br> Sean Javiya<br> Jake Wong<br> Timothy Jan<br>"
   ]
  },
  {
   "cell_type": "code",
   "execution_count": 1,
   "id": "2904e091",
   "metadata": {},
   "outputs": [],
   "source": [
    "import numpy as np\n",
    "import matplotlib.pyplot as plt\n",
    "import sklearn as sk\n",
    "import pandas as pd\n",
    "from sklearn.model_selection import train_test_split\n",
    "from sklearn.naive_bayes import CategoricalNB\n",
    "from sklearn.neighbors import KNeighborsClassifier\n",
    "pd.options.mode.chained_assignment = None  # default='warn'"
   ]
  },
  {
   "cell_type": "code",
   "execution_count": 2,
   "id": "cfc10c52",
   "metadata": {},
   "outputs": [
    {
     "data": {
      "text/html": [
       "<div>\n",
       "<style scoped>\n",
       "    .dataframe tbody tr th:only-of-type {\n",
       "        vertical-align: middle;\n",
       "    }\n",
       "\n",
       "    .dataframe tbody tr th {\n",
       "        vertical-align: top;\n",
       "    }\n",
       "\n",
       "    .dataframe thead th {\n",
       "        text-align: right;\n",
       "    }\n",
       "</style>\n",
       "<table border=\"1\" class=\"dataframe\">\n",
       "  <thead>\n",
       "    <tr style=\"text-align: right;\">\n",
       "      <th></th>\n",
       "      <th>age</th>\n",
       "      <th>job</th>\n",
       "      <th>marital</th>\n",
       "      <th>education</th>\n",
       "      <th>default</th>\n",
       "      <th>housing</th>\n",
       "      <th>loan</th>\n",
       "      <th>contact</th>\n",
       "      <th>month</th>\n",
       "      <th>day_of_week</th>\n",
       "      <th>...</th>\n",
       "      <th>campaign</th>\n",
       "      <th>pdays</th>\n",
       "      <th>previous</th>\n",
       "      <th>poutcome</th>\n",
       "      <th>emp.var.rate</th>\n",
       "      <th>cons.price.idx</th>\n",
       "      <th>cons.conf.idx</th>\n",
       "      <th>euribor3m</th>\n",
       "      <th>nr.employed</th>\n",
       "      <th>y</th>\n",
       "    </tr>\n",
       "  </thead>\n",
       "  <tbody>\n",
       "    <tr>\n",
       "      <th>0</th>\n",
       "      <td>56</td>\n",
       "      <td>housemaid</td>\n",
       "      <td>married</td>\n",
       "      <td>basic.4y</td>\n",
       "      <td>no</td>\n",
       "      <td>no</td>\n",
       "      <td>no</td>\n",
       "      <td>telephone</td>\n",
       "      <td>may</td>\n",
       "      <td>mon</td>\n",
       "      <td>...</td>\n",
       "      <td>1</td>\n",
       "      <td>999</td>\n",
       "      <td>0</td>\n",
       "      <td>nonexistent</td>\n",
       "      <td>1.1</td>\n",
       "      <td>93.994</td>\n",
       "      <td>-36.4</td>\n",
       "      <td>4.857</td>\n",
       "      <td>5191.0</td>\n",
       "      <td>no</td>\n",
       "    </tr>\n",
       "    <tr>\n",
       "      <th>1</th>\n",
       "      <td>57</td>\n",
       "      <td>services</td>\n",
       "      <td>married</td>\n",
       "      <td>high.school</td>\n",
       "      <td>unknown</td>\n",
       "      <td>no</td>\n",
       "      <td>no</td>\n",
       "      <td>telephone</td>\n",
       "      <td>may</td>\n",
       "      <td>mon</td>\n",
       "      <td>...</td>\n",
       "      <td>1</td>\n",
       "      <td>999</td>\n",
       "      <td>0</td>\n",
       "      <td>nonexistent</td>\n",
       "      <td>1.1</td>\n",
       "      <td>93.994</td>\n",
       "      <td>-36.4</td>\n",
       "      <td>4.857</td>\n",
       "      <td>5191.0</td>\n",
       "      <td>no</td>\n",
       "    </tr>\n",
       "    <tr>\n",
       "      <th>2</th>\n",
       "      <td>37</td>\n",
       "      <td>services</td>\n",
       "      <td>married</td>\n",
       "      <td>high.school</td>\n",
       "      <td>no</td>\n",
       "      <td>yes</td>\n",
       "      <td>no</td>\n",
       "      <td>telephone</td>\n",
       "      <td>may</td>\n",
       "      <td>mon</td>\n",
       "      <td>...</td>\n",
       "      <td>1</td>\n",
       "      <td>999</td>\n",
       "      <td>0</td>\n",
       "      <td>nonexistent</td>\n",
       "      <td>1.1</td>\n",
       "      <td>93.994</td>\n",
       "      <td>-36.4</td>\n",
       "      <td>4.857</td>\n",
       "      <td>5191.0</td>\n",
       "      <td>no</td>\n",
       "    </tr>\n",
       "    <tr>\n",
       "      <th>3</th>\n",
       "      <td>40</td>\n",
       "      <td>admin.</td>\n",
       "      <td>married</td>\n",
       "      <td>basic.6y</td>\n",
       "      <td>no</td>\n",
       "      <td>no</td>\n",
       "      <td>no</td>\n",
       "      <td>telephone</td>\n",
       "      <td>may</td>\n",
       "      <td>mon</td>\n",
       "      <td>...</td>\n",
       "      <td>1</td>\n",
       "      <td>999</td>\n",
       "      <td>0</td>\n",
       "      <td>nonexistent</td>\n",
       "      <td>1.1</td>\n",
       "      <td>93.994</td>\n",
       "      <td>-36.4</td>\n",
       "      <td>4.857</td>\n",
       "      <td>5191.0</td>\n",
       "      <td>no</td>\n",
       "    </tr>\n",
       "    <tr>\n",
       "      <th>4</th>\n",
       "      <td>56</td>\n",
       "      <td>services</td>\n",
       "      <td>married</td>\n",
       "      <td>high.school</td>\n",
       "      <td>no</td>\n",
       "      <td>no</td>\n",
       "      <td>yes</td>\n",
       "      <td>telephone</td>\n",
       "      <td>may</td>\n",
       "      <td>mon</td>\n",
       "      <td>...</td>\n",
       "      <td>1</td>\n",
       "      <td>999</td>\n",
       "      <td>0</td>\n",
       "      <td>nonexistent</td>\n",
       "      <td>1.1</td>\n",
       "      <td>93.994</td>\n",
       "      <td>-36.4</td>\n",
       "      <td>4.857</td>\n",
       "      <td>5191.0</td>\n",
       "      <td>no</td>\n",
       "    </tr>\n",
       "  </tbody>\n",
       "</table>\n",
       "<p>5 rows × 21 columns</p>\n",
       "</div>"
      ],
      "text/plain": [
       "   age        job  marital    education  default housing loan    contact  \\\n",
       "0   56  housemaid  married     basic.4y       no      no   no  telephone   \n",
       "1   57   services  married  high.school  unknown      no   no  telephone   \n",
       "2   37   services  married  high.school       no     yes   no  telephone   \n",
       "3   40     admin.  married     basic.6y       no      no   no  telephone   \n",
       "4   56   services  married  high.school       no      no  yes  telephone   \n",
       "\n",
       "  month day_of_week  ...  campaign  pdays  previous     poutcome emp.var.rate  \\\n",
       "0   may         mon  ...         1    999         0  nonexistent          1.1   \n",
       "1   may         mon  ...         1    999         0  nonexistent          1.1   \n",
       "2   may         mon  ...         1    999         0  nonexistent          1.1   \n",
       "3   may         mon  ...         1    999         0  nonexistent          1.1   \n",
       "4   may         mon  ...         1    999         0  nonexistent          1.1   \n",
       "\n",
       "   cons.price.idx  cons.conf.idx  euribor3m  nr.employed   y  \n",
       "0          93.994          -36.4      4.857       5191.0  no  \n",
       "1          93.994          -36.4      4.857       5191.0  no  \n",
       "2          93.994          -36.4      4.857       5191.0  no  \n",
       "3          93.994          -36.4      4.857       5191.0  no  \n",
       "4          93.994          -36.4      4.857       5191.0  no  \n",
       "\n",
       "[5 rows x 21 columns]"
      ]
     },
     "execution_count": 2,
     "metadata": {},
     "output_type": "execute_result"
    }
   ],
   "source": [
    "data = pd.read_csv('bank-additional/bank-additional-full.csv', delimiter=';')\n",
    "data.head(5)"
   ]
  },
  {
   "cell_type": "code",
   "execution_count": 3,
   "id": "a0f82701",
   "metadata": {
    "scrolled": true
   },
   "outputs": [],
   "source": [
    "train, test = train_test_split(data, test_size=0.1, train_size=0.9, random_state=(2021-10-25), shuffle=True, stratify=None)\n",
    "test = test.drop(columns='duration')\n",
    "train = train.drop(columns='duration')\n",
    "y_test = test.pop('y')\n",
    "y_train = train.pop('y')\n"
   ]
  },
  {
   "cell_type": "code",
   "execution_count": 4,
   "id": "aeed0b9e",
   "metadata": {},
   "outputs": [],
   "source": [
    "categorical_test_data = test.iloc[:, :7]\n",
    "categorical_train_data = train.iloc[:, :7]\n",
    "#categorical_test_data.drop(lab, axis=1)\n",
    "#print(categorical_test_data)\n",
    "#pd.get_dummies(test,columns= drop_first=True, dtype=None)\n",
    "test_df = pd.get_dummies(categorical_test_data, drop_first=True) \n",
    "train_df = pd.get_dummies(categorical_train_data, drop_first=True)"
   ]
  },
  {
   "cell_type": "code",
   "execution_count": 5,
   "id": "b18d404d",
   "metadata": {},
   "outputs": [
    {
     "name": "stdout",
     "output_type": "stream",
     "text": [
      "test percentage correct:  0.8788540907987376\n",
      "train percentage correct:  0.8818689470986538\n"
     ]
    }
   ],
   "source": [
    "nbfit = CategoricalNB()\n",
    "nbfit.fit(train_df, y_train)\n",
    "nb_prediction = nbfit.predict(test_df)\n",
    "#print(nb_prediction.len)\n",
    "#print(y_test)\n",
    "testscore = 0\n",
    "for index, value in enumerate(y_test):\n",
    "    if value == nb_prediction[index]:\n",
    "        testscore += 1\n",
    "#print(testscore/len(y_test))\n",
    "percentage_score = testscore/len(y_test)\n",
    "print(\"test percentage correct: \", percentage_score)\n",
    "\n",
    "nb_train_prediction = nbfit.predict(train_df)\n",
    "trainscore = 0\n",
    "for index, value in enumerate(y_train):\n",
    "    if value == nb_train_prediction[index]:\n",
    "        trainscore += 1\n",
    "#print(trainscore/len(y_train))\n",
    "percentage_train_score = trainscore/len(y_train) \n",
    "print(\"train percentage correct: \", percentage_train_score)\n"
   ]
  },
  {
   "cell_type": "code",
   "execution_count": 6,
   "id": "560094f1",
   "metadata": {},
   "outputs": [
    {
     "name": "stdout",
     "output_type": "stream",
     "text": [
      "There are  78  categories for age in the entire data.  This is unreasonable.\n"
     ]
    }
   ],
   "source": [
    "#print(data.age)\n",
    "unique_ages = len(set(data.age))\n",
    "print(\"There are \", unique_ages, \" categories for age in the entire data.  This is unreasonable.\")"
   ]
  },
  {
   "cell_type": "code",
   "execution_count": 7,
   "id": "a6eeeadb",
   "metadata": {
    "scrolled": true
   },
   "outputs": [],
   "source": [
    "#for i in range(len(categorical_test_data)):\n",
    "#    match int(int(categorical_test_data.age[i:i+1])/10):\n",
    "#        case 1:\n",
    "#            categorical_test_data.age[i:i+1] == 'teen'\n",
    "#        case 2:\n",
    "#            categorical_test_data.age[i:i+1] == 'twenty'\n",
    "\n",
    "age_dict = {1:\"tens\",2:\"twenties\",3:\"thirties\",4:\"forties\",5:\"fifties\",6:\"sixties\",7:\"seventies\",8:\"eighties\",9:\"nineties\"}\n",
    "for ind in categorical_test_data.index:\n",
    "    decade_value = int(categorical_test_data['age'][ind]/10)\n",
    "    categorical_test_data['age'][ind] = age_dict[decade_value]\n",
    "#    if int(int(categorical_test_data.age[i:i+1])/10) == 1\n",
    "#        categorical_test_data.age[i:i+1] == 'teen'\n",
    "for ind in categorical_train_data.index:\n",
    "    decade_value = int(categorical_train_data['age'][ind]/10)\n",
    "    categorical_train_data['age'][ind] = age_dict[decade_value]\n",
    "#categorical_test_data        \n",
    "test_df_generations = pd.get_dummies(categorical_test_data, drop_first=True)\n",
    "train_df_generations = pd.get_dummies(categorical_train_data, drop_first=True)\n",
    "#train_df_generations"
   ]
  },
  {
   "cell_type": "code",
   "execution_count": 8,
   "id": "8b25f2e0",
   "metadata": {},
   "outputs": [],
   "source": [
    "test_df_generations['age_nineties'] = 0 #preprocessing to add column of 0's for equal number of columns"
   ]
  },
  {
   "cell_type": "code",
   "execution_count": 9,
   "id": "0f21837b",
   "metadata": {},
   "outputs": [
    {
     "name": "stdout",
     "output_type": "stream",
     "text": [
      "test percentage correct:  0.6448167030832727\n",
      "train percentage correct:  0.8808168550540884\n"
     ]
    }
   ],
   "source": [
    "nbfit = CategoricalNB()\n",
    "nbfit.fit(train_df_generations, y_train)\n",
    "nb_prediction = nbfit.predict(test_df_generations)\n",
    "#print(nb_prediction.len)\n",
    "#print(y_test)\n",
    "testscore = 0\n",
    "for index, value in enumerate(y_test):\n",
    "    if value == nb_prediction[index]:\n",
    "        testscore += 1\n",
    "#print(testscore/len(y_test))\n",
    "percentage_score_generations = testscore/len(y_test)\n",
    "print(\"test percentage correct: \", percentage_score_generations)\n",
    "\n",
    "nb_train_prediction = nbfit.predict(train_df_generations)\n",
    "trainscore = 0\n",
    "for index, value in enumerate(y_train):\n",
    "    if value == nb_train_prediction[index]:\n",
    "        trainscore += 1\n",
    "#print(trainscore/len(y_train))\n",
    "percentage_train_score_generations = trainscore/len(y_train) \n",
    "print(\"train percentage correct: \", percentage_train_score_generations)\n"
   ]
  },
  {
   "cell_type": "code",
   "execution_count": 10,
   "id": "4ab99c10",
   "metadata": {},
   "outputs": [
    {
     "name": "stdout",
     "output_type": "stream",
     "text": [
      "test percentage correct:  0.8771546491866958\n",
      "train percentage correct:  0.8903935903315439\n"
     ]
    }
   ],
   "source": [
    "categorical_test_data_knn = test.iloc[:, :7]\n",
    "categorical_train_data_knn = train.iloc[:, :7]\n",
    "test_df_knn = pd.get_dummies(categorical_test_data_knn, drop_first=True) \n",
    "train_df_knn = pd.get_dummies(categorical_train_data_knn, drop_first=True)\n",
    "KNNfit = KNeighborsClassifier()\n",
    "KNNfit.fit(train_df_knn, y_train)\n",
    "kn_prediction = KNNfit.predict(test_df_knn)\n",
    "testscore = 0\n",
    "for index, value in enumerate(y_test):\n",
    "    if value == kn_prediction[index]:\n",
    "        testscore += 1\n",
    "#print(testscore/len(y_test))\n",
    "percentage_score_knn = testscore/len(y_test)\n",
    "print(\"test percentage correct: \", percentage_score_knn)\n",
    "\n",
    "kn_train_prediction = KNNfit.predict(train_df_knn)\n",
    "trainscore = 0\n",
    "for index, value in enumerate(y_train):\n",
    "    if value == kn_train_prediction[index]:\n",
    "        trainscore += 1\n",
    "#print(trainscore/len(y_train))\n",
    "percentage_train_score_knn = trainscore/len(y_train) \n",
    "print(\"train percentage correct: \", percentage_train_score_knn)"
   ]
  },
  {
   "cell_type": "code",
   "execution_count": 20,
   "id": "feae18af",
   "metadata": {},
   "outputs": [
    {
     "name": "stdout",
     "output_type": "stream",
     "text": [
      "{'no': 3646, 'yes': 473}\n",
      "test percentage correct if we assume there are no subscribed customers:  0.965768390386016\n"
     ]
    }
   ],
   "source": [
    "counts = y_test.value_counts().to_dict()\n",
    "print(counts)\n",
    "testscore = 0\n",
    "for index in range(len(kn_prediction)):\n",
    "    if kn_prediction[index] == 'no':\n",
    "        testscore += 1\n",
    "#print(testscore/len(y_test))\n",
    "percentage_score_knn = testscore/len(y_test)\n",
    "print(\"test percentage correct if we assume there are no subscribed customers: \", percentage_score_knn)"
   ]
  },
  {
   "cell_type": "code",
   "execution_count": null,
   "id": "131f4b3a",
   "metadata": {},
   "outputs": [],
   "source": []
  }
 ],
 "metadata": {
  "kernelspec": {
   "display_name": "Python 3",
   "language": "python",
   "name": "python3"
  },
  "language_info": {
   "codemirror_mode": {
    "name": "ipython",
    "version": 3
   },
   "file_extension": ".py",
   "mimetype": "text/x-python",
   "name": "python",
   "nbconvert_exporter": "python",
   "pygments_lexer": "ipython3",
   "version": "3.8.8"
  }
 },
 "nbformat": 4,
 "nbformat_minor": 5
}
