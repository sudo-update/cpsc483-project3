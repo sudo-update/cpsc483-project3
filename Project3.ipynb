{
 "cells": [
  {
   "cell_type": "markdown",
   "id": "4e04b7d1",
   "metadata": {},
   "source": [
    "Project 3<br> Sean Javiya<br> Jake Wong<br> Timothy Jan<br>"
   ]
  },
  {
   "cell_type": "code",
   "execution_count": null,
   "id": "fdad74d2",
   "metadata": {},
   "outputs": [],
   "source": []
  }
 ],
 "metadata": {
  "kernelspec": {
   "display_name": "Python 3",
   "language": "python",
   "name": "python3"
  },
  "language_info": {
   "codemirror_mode": {
    "name": "ipython",
    "version": 3
   },
   "file_extension": ".py",
   "mimetype": "text/x-python",
   "name": "python",
   "nbconvert_exporter": "python",
   "pygments_lexer": "ipython3",
   "version": "3.8.8"
  }
 },
 "nbformat": 4,
 "nbformat_minor": 5
}
